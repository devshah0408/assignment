{
 "cells": [
  {
   "cell_type": "code",
   "execution_count": 1,
   "id": "e4a82e91-51e0-4862-a345-8c8f51178815",
   "metadata": {},
   "outputs": [
    {
     "data": {
      "text/plain": [
       "2"
      ]
     },
     "execution_count": 1,
     "metadata": {},
     "output_type": "execute_result"
    }
   ],
   "source": [
    "1+1\n"
   ]
  },
  {
   "cell_type": "code",
   "execution_count": 2,
   "id": "b72606e9-915d-4ad7-b911-2517f805d8d5",
   "metadata": {},
   "outputs": [
    {
     "data": {
      "text/plain": [
       "25"
      ]
     },
     "execution_count": 2,
     "metadata": {},
     "output_type": "execute_result"
    }
   ],
   "source": [
    "5*5"
   ]
  },
  {
   "cell_type": "code",
   "execution_count": 4,
   "id": "04745dcb-2c53-4417-a34f-89ef1c87c4af",
   "metadata": {},
   "outputs": [],
   "source": [
    "a=10 \n"
   ]
  },
  {
   "cell_type": "code",
   "execution_count": 8,
   "id": "18babe28-4c38-4542-a1b4-dde770d7c014",
   "metadata": {},
   "outputs": [
    {
     "data": {
      "text/plain": [
       "10"
      ]
     },
     "execution_count": 8,
     "metadata": {},
     "output_type": "execute_result"
    }
   ],
   "source": [
    "a"
   ]
  },
  {
   "cell_type": "code",
   "execution_count": 6,
   "id": "73daeacd-41b9-401f-b587-ab40712f8937",
   "metadata": {},
   "outputs": [],
   "source": [
    "dev =20"
   ]
  },
  {
   "cell_type": "code",
   "execution_count": 7,
   "id": "7e095fd2-6fa2-4f23-aeb0-acb45fb04c6b",
   "metadata": {},
   "outputs": [
    {
     "data": {
      "text/plain": [
       "20"
      ]
     },
     "execution_count": 7,
     "metadata": {},
     "output_type": "execute_result"
    }
   ],
   "source": [
    "dev"
   ]
  },
  {
   "cell_type": "code",
   "execution_count": 9,
   "id": "90e9904b-479b-42d1-ac82-5cfc3da0cabf",
   "metadata": {},
   "outputs": [
    {
     "data": {
      "text/plain": [
       "30"
      ]
     },
     "execution_count": 9,
     "metadata": {},
     "output_type": "execute_result"
    }
   ],
   "source": [
    "a+dev"
   ]
  },
  {
   "cell_type": "code",
   "execution_count": 11,
   "id": "bdc4bef9-1954-4aef-b1df-16e94cf62478",
   "metadata": {},
   "outputs": [],
   "source": [
    "a=dev"
   ]
  },
  {
   "cell_type": "code",
   "execution_count": 12,
   "id": "f8f0888e-a914-47c2-973a-b32405e703a4",
   "metadata": {},
   "outputs": [
    {
     "data": {
      "text/plain": [
       "20"
      ]
     },
     "execution_count": 12,
     "metadata": {},
     "output_type": "execute_result"
    }
   ],
   "source": [
    "a"
   ]
  },
  {
   "cell_type": "code",
   "execution_count": 13,
   "id": "bec3e244-916b-4c1b-ab6e-711bcded1f43",
   "metadata": {},
   "outputs": [
    {
     "data": {
      "text/plain": [
       "int"
      ]
     },
     "execution_count": 13,
     "metadata": {},
     "output_type": "execute_result"
    }
   ],
   "source": [
    "type(a)"
   ]
  },
  {
   "cell_type": "code",
   "execution_count": 14,
   "id": "012a90b5-ba22-4fa7-8dee-b7fd18763870",
   "metadata": {},
   "outputs": [
    {
     "data": {
      "text/plain": [
       "int"
      ]
     },
     "execution_count": 14,
     "metadata": {},
     "output_type": "execute_result"
    }
   ],
   "source": [
    "type(dev)"
   ]
  },
  {
   "cell_type": "code",
   "execution_count": 15,
   "id": "da874f20-8188-46b9-b244-44e63337b2c7",
   "metadata": {},
   "outputs": [],
   "source": [
    "c= 45.0"
   ]
  },
  {
   "cell_type": "code",
   "execution_count": 16,
   "id": "34250c25-8734-40fb-800e-6c4ba11b477c",
   "metadata": {},
   "outputs": [
    {
     "data": {
      "text/plain": [
       "float"
      ]
     },
     "execution_count": 16,
     "metadata": {},
     "output_type": "execute_result"
    }
   ],
   "source": [
    "type(c)"
   ]
  },
  {
   "cell_type": "code",
   "execution_count": 17,
   "id": "a6743ae9-b7cb-481b-8ea0-8d73915d2820",
   "metadata": {},
   "outputs": [],
   "source": [
    "d= \"dev shah\""
   ]
  },
  {
   "cell_type": "code",
   "execution_count": 18,
   "id": "3e5a2cd1-c213-44ed-9e14-de2c232f3d6c",
   "metadata": {},
   "outputs": [
    {
     "data": {
      "text/plain": [
       "str"
      ]
     },
     "execution_count": 18,
     "metadata": {},
     "output_type": "execute_result"
    }
   ],
   "source": [
    "type(d)"
   ]
  },
  {
   "cell_type": "code",
   "execution_count": 19,
   "id": "0132ac36-b52a-475e-a5dc-3a5a7885b8ba",
   "metadata": {},
   "outputs": [],
   "source": [
    "e= \"this is my first class \""
   ]
  },
  {
   "cell_type": "code",
   "execution_count": 20,
   "id": "73452b19-2f30-4a7c-b9f6-cb37d8899823",
   "metadata": {},
   "outputs": [
    {
     "data": {
      "text/plain": [
       "str"
      ]
     },
     "execution_count": 20,
     "metadata": {},
     "output_type": "execute_result"
    }
   ],
   "source": [
    "type(e)"
   ]
  },
  {
   "cell_type": "code",
   "execution_count": 21,
   "id": "bdf50b17-dbdc-4b76-8d4c-f02c0bc1e9e7",
   "metadata": {},
   "outputs": [],
   "source": [
    "n= True "
   ]
  },
  {
   "cell_type": "code",
   "execution_count": 22,
   "id": "a862efdb-289e-4f0e-9ddd-2e9fa7c7b0d4",
   "metadata": {},
   "outputs": [
    {
     "data": {
      "text/plain": [
       "bool"
      ]
     },
     "execution_count": 22,
     "metadata": {},
     "output_type": "execute_result"
    }
   ],
   "source": [
    "type(n)"
   ]
  },
  {
   "cell_type": "code",
   "execution_count": 23,
   "id": "6cf465c6-9a66-45f0-a91e-5615f3c50067",
   "metadata": {},
   "outputs": [],
   "source": [
    "m=False "
   ]
  },
  {
   "cell_type": "code",
   "execution_count": 24,
   "id": "590042c4-38b8-43fe-af18-8c54dbf15adc",
   "metadata": {},
   "outputs": [
    {
     "data": {
      "text/plain": [
       "bool"
      ]
     },
     "execution_count": 24,
     "metadata": {},
     "output_type": "execute_result"
    }
   ],
   "source": [
    "type(m)"
   ]
  },
  {
   "cell_type": "code",
   "execution_count": 25,
   "id": "098980f3-ab69-4fd6-bf19-c325df147212",
   "metadata": {},
   "outputs": [
    {
     "data": {
      "text/plain": [
       "1"
      ]
     },
     "execution_count": 25,
     "metadata": {},
     "output_type": "execute_result"
    }
   ],
   "source": [
    "n+m"
   ]
  },
  {
   "cell_type": "code",
   "execution_count": 26,
   "id": "42c3e6ab-3592-4eaa-97bd-999eb4e637eb",
   "metadata": {},
   "outputs": [
    {
     "data": {
      "text/plain": [
       "1"
      ]
     },
     "execution_count": 26,
     "metadata": {},
     "output_type": "execute_result"
    }
   ],
   "source": [
    "True * True "
   ]
  },
  {
   "cell_type": "code",
   "execution_count": 27,
   "id": "0c83987e-50bf-4cf0-9d5f-e47195cf0813",
   "metadata": {},
   "outputs": [
    {
     "data": {
      "text/plain": [
       "0"
      ]
     },
     "execution_count": 27,
     "metadata": {},
     "output_type": "execute_result"
    }
   ],
   "source": [
    "True * False "
   ]
  },
  {
   "cell_type": "code",
   "execution_count": 28,
   "id": "f68b91e5-1757-4b60-a3bf-e217971acdaf",
   "metadata": {},
   "outputs": [
    {
     "ename": "ZeroDivisionError",
     "evalue": "division by zero",
     "output_type": "error",
     "traceback": [
      "\u001b[0;31m---------------------------------------------------------------------------\u001b[0m",
      "\u001b[0;31mZeroDivisionError\u001b[0m                         Traceback (most recent call last)",
      "Cell \u001b[0;32mIn[28], line 1\u001b[0m\n\u001b[0;32m----> 1\u001b[0m \u001b[38;5;28;43;01mTrue\u001b[39;49;00m\u001b[43m \u001b[49m\u001b[38;5;241;43m/\u001b[39;49m\u001b[43m \u001b[49m\u001b[38;5;28;43;01mFalse\u001b[39;49;00m \n",
      "\u001b[0;31mZeroDivisionError\u001b[0m: division by zero"
     ]
    }
   ],
   "source": [
    "True / False "
   ]
  },
  {
   "cell_type": "code",
   "execution_count": 30,
   "id": "c3567b14-2530-43d2-98d6-314be26f3c66",
   "metadata": {},
   "outputs": [],
   "source": [
    "v = 5+ 8j"
   ]
  },
  {
   "cell_type": "code",
   "execution_count": 31,
   "id": "efef27e5-ca09-4c60-a513-2bfafa03e68f",
   "metadata": {},
   "outputs": [
    {
     "data": {
      "text/plain": [
       "complex"
      ]
     },
     "execution_count": 31,
     "metadata": {},
     "output_type": "execute_result"
    }
   ],
   "source": [
    "type(v)"
   ]
  },
  {
   "cell_type": "code",
   "execution_count": 32,
   "id": "8bb95d09-c498-4160-a9af-294e2be3c2b4",
   "metadata": {},
   "outputs": [
    {
     "data": {
      "text/plain": [
       "5.0"
      ]
     },
     "execution_count": 32,
     "metadata": {},
     "output_type": "execute_result"
    }
   ],
   "source": [
    "v.real"
   ]
  },
  {
   "cell_type": "code",
   "execution_count": 33,
   "id": "ebdfe6f4-2315-4433-9809-5dd49bd0037d",
   "metadata": {},
   "outputs": [
    {
     "data": {
      "text/plain": [
       "<function complex.conjugate()>"
      ]
     },
     "execution_count": 33,
     "metadata": {},
     "output_type": "execute_result"
    }
   ],
   "source": [
    "v.conjugate"
   ]
  },
  {
   "cell_type": "code",
   "execution_count": 34,
   "id": "03ca53a9-0ef8-4636-8722-caddbd9ea266",
   "metadata": {},
   "outputs": [
    {
     "data": {
      "text/plain": [
       "8.0"
      ]
     },
     "execution_count": 34,
     "metadata": {},
     "output_type": "execute_result"
    }
   ],
   "source": [
    "v.imag"
   ]
  },
  {
   "cell_type": "code",
   "execution_count": 35,
   "id": "4b57ab09-4865-46be-ae03-896fc1deb560",
   "metadata": {},
   "outputs": [
    {
     "data": {
      "text/plain": [
       "(5+8j)"
      ]
     },
     "execution_count": 35,
     "metadata": {},
     "output_type": "execute_result"
    }
   ],
   "source": [
    "v"
   ]
  },
  {
   "cell_type": "code",
   "execution_count": 37,
   "id": "e68d41dc-9ef0-4844-83a6-5c37fd289ec6",
   "metadata": {},
   "outputs": [
    {
     "name": "stdout",
     "output_type": "stream",
     "text": [
      "(5+8j)\n"
     ]
    }
   ],
   "source": [
    "print(v)"
   ]
  },
  {
   "cell_type": "code",
   "execution_count": 38,
   "id": "dbbf20cc-6fdf-4503-8d5e-a4d206c4282e",
   "metadata": {},
   "outputs": [
    {
     "name": "stdout",
     "output_type": "stream",
     "text": [
      "my name is dev shah \n"
     ]
    }
   ],
   "source": [
    "print(\"my name is dev shah \")"
   ]
  },
  {
   "cell_type": "code",
   "execution_count": 40,
   "id": "ebac04af-cecf-4498-b527-95d3460d138d",
   "metadata": {},
   "outputs": [
    {
     "name": "stdout",
     "output_type": "stream",
     "text": [
      "20\n"
     ]
    }
   ],
   "source": [
    "print(a)"
   ]
  },
  {
   "cell_type": "code",
   "execution_count": null,
   "id": "8354ca2e-756b-45b9-91eb-f489ccd9014b",
   "metadata": {},
   "outputs": [],
   "source": []
  },
  {
   "cell_type": "code",
   "execution_count": 41,
   "id": "3db086bb-0db7-4692-9f5d-75a6b3d6cada",
   "metadata": {},
   "outputs": [],
   "source": [
    "# string \n",
    "s=\"pw skills\""
   ]
  },
  {
   "cell_type": "code",
   "execution_count": 42,
   "id": "03a16861-a02c-4b9f-964e-ed7144b8ef38",
   "metadata": {},
   "outputs": [
    {
     "data": {
      "text/plain": [
       "str"
      ]
     },
     "execution_count": 42,
     "metadata": {},
     "output_type": "execute_result"
    }
   ],
   "source": [
    "type(s)"
   ]
  },
  {
   "cell_type": "code",
   "execution_count": 43,
   "id": "d3640b37-c4e8-4fbd-ab21-eff510b67052",
   "metadata": {},
   "outputs": [
    {
     "data": {
      "text/plain": [
       "'p'"
      ]
     },
     "execution_count": 43,
     "metadata": {},
     "output_type": "execute_result"
    }
   ],
   "source": [
    "s[0]"
   ]
  },
  {
   "cell_type": "code",
   "execution_count": 50,
   "id": "75533ab7-f20e-44e9-8449-4644696ea866",
   "metadata": {},
   "outputs": [
    {
     "data": {
      "text/plain": [
       "' '"
      ]
     },
     "execution_count": 50,
     "metadata": {},
     "output_type": "execute_result"
    }
   ],
   "source": [
    "s[2]"
   ]
  },
  {
   "cell_type": "code",
   "execution_count": 51,
   "id": "554a058f-5047-44e2-aeeb-4c7aa933ad4a",
   "metadata": {},
   "outputs": [
    {
     "data": {
      "text/plain": [
       "'l'"
      ]
     },
     "execution_count": 51,
     "metadata": {},
     "output_type": "execute_result"
    }
   ],
   "source": [
    "s[-2]"
   ]
  },
  {
   "cell_type": "code",
   "execution_count": 52,
   "id": "ab125b16-e1ee-4392-8586-572e47d7e6c0",
   "metadata": {},
   "outputs": [
    {
     "data": {
      "text/plain": [
       "'s'"
      ]
     },
     "execution_count": 52,
     "metadata": {},
     "output_type": "execute_result"
    }
   ],
   "source": [
    "s[-6]"
   ]
  },
  {
   "cell_type": "code",
   "execution_count": 54,
   "id": "d5c292f4-80d8-48d5-a49b-21bad6103345",
   "metadata": {},
   "outputs": [
    {
     "data": {
      "text/plain": [
       "'pw'"
      ]
     },
     "execution_count": 54,
     "metadata": {},
     "output_type": "execute_result"
    }
   ],
   "source": [
    "s[0:2]"
   ]
  },
  {
   "cell_type": "code",
   "execution_count": 55,
   "id": "9f81062a-5f4b-455b-8503-48690c9ca142",
   "metadata": {},
   "outputs": [
    {
     "data": {
      "text/plain": [
       "'pw '"
      ]
     },
     "execution_count": 55,
     "metadata": {},
     "output_type": "execute_result"
    }
   ],
   "source": [
    "s[0:3]"
   ]
  },
  {
   "cell_type": "code",
   "execution_count": 56,
   "id": "8c56d691-41f4-4666-a354-02ab2c654703",
   "metadata": {},
   "outputs": [
    {
     "data": {
      "text/plain": [
       "'pw sk'"
      ]
     },
     "execution_count": 56,
     "metadata": {},
     "output_type": "execute_result"
    }
   ],
   "source": [
    "s[0:5]"
   ]
  },
  {
   "cell_type": "code",
   "execution_count": 58,
   "id": "20be2e81-4525-4385-a04b-56bf75a6c118",
   "metadata": {},
   "outputs": [
    {
     "data": {
      "text/plain": [
       "'p kls'"
      ]
     },
     "execution_count": 58,
     "metadata": {},
     "output_type": "execute_result"
    }
   ],
   "source": [
    "s[0:9:2]"
   ]
  },
  {
   "cell_type": "code",
   "execution_count": 59,
   "id": "b4bca73a-14b6-4918-b1d0-37d50656892c",
   "metadata": {},
   "outputs": [
    {
     "data": {
      "text/plain": [
       "'psl'"
      ]
     },
     "execution_count": 59,
     "metadata": {},
     "output_type": "execute_result"
    }
   ],
   "source": [
    "s[0:9:3]"
   ]
  },
  {
   "cell_type": "code",
   "execution_count": 60,
   "id": "c525facd-e1c8-4d2b-a5cd-c51a5434def1",
   "metadata": {},
   "outputs": [
    {
     "data": {
      "text/plain": [
       "'pks'"
      ]
     },
     "execution_count": 60,
     "metadata": {},
     "output_type": "execute_result"
    }
   ],
   "source": [
    "s[0:9:4]"
   ]
  },
  {
   "cell_type": "code",
   "execution_count": 61,
   "id": "034b6683-8d85-4cc0-8c08-b5a996363e92",
   "metadata": {},
   "outputs": [
    {
     "data": {
      "text/plain": [
       "'p kls'"
      ]
     },
     "execution_count": 61,
     "metadata": {},
     "output_type": "execute_result"
    }
   ],
   "source": [
    "s[::2]"
   ]
  },
  {
   "cell_type": "code",
   "execution_count": 62,
   "id": "0fb5caaf-8199-465b-98db-217f352de6c4",
   "metadata": {},
   "outputs": [
    {
     "data": {
      "text/plain": [
       "' kls'"
      ]
     },
     "execution_count": 62,
     "metadata": {},
     "output_type": "execute_result"
    }
   ],
   "source": [
    "s[2::2]"
   ]
  },
  {
   "cell_type": "code",
   "execution_count": 63,
   "id": "18c17e67-2592-47fb-b153-631154fe3547",
   "metadata": {},
   "outputs": [
    {
     "ename": "ValueError",
     "evalue": "slice step cannot be zero",
     "output_type": "error",
     "traceback": [
      "\u001b[0;31m---------------------------------------------------------------------------\u001b[0m",
      "\u001b[0;31mValueError\u001b[0m                                Traceback (most recent call last)",
      "Cell \u001b[0;32mIn[63], line 1\u001b[0m\n\u001b[0;32m----> 1\u001b[0m \u001b[43ms\u001b[49m\u001b[43m[\u001b[49m\u001b[38;5;241;43m0\u001b[39;49m\u001b[43m:\u001b[49m\u001b[38;5;241;43m9\u001b[39;49m\u001b[43m:\u001b[49m\u001b[38;5;241;43m0\u001b[39;49m\u001b[43m]\u001b[49m\n",
      "\u001b[0;31mValueError\u001b[0m: slice step cannot be zero"
     ]
    }
   ],
   "source": [
    "s[0:9:0]"
   ]
  },
  {
   "cell_type": "code",
   "execution_count": 64,
   "id": "2f87f4fa-ec41-4a91-9adc-dc8a330761b1",
   "metadata": {},
   "outputs": [
    {
     "data": {
      "text/plain": [
       "'slliks wp'"
      ]
     },
     "execution_count": 64,
     "metadata": {},
     "output_type": "execute_result"
    }
   ],
   "source": [
    "s[::-1]"
   ]
  },
  {
   "cell_type": "code",
   "execution_count": 66,
   "id": "e733f663-183b-4004-95a9-74d16408df82",
   "metadata": {},
   "outputs": [
    {
     "data": {
      "text/plain": [
       "'slk p'"
      ]
     },
     "execution_count": 66,
     "metadata": {},
     "output_type": "execute_result"
    }
   ],
   "source": [
    "s[::-2]"
   ]
  },
  {
   "cell_type": "code",
   "execution_count": 68,
   "id": "d2d612e9-4eee-43df-a00e-2d0358c965f9",
   "metadata": {},
   "outputs": [
    {
     "data": {
      "text/plain": [
       "''"
      ]
     },
     "execution_count": 68,
     "metadata": {},
     "output_type": "execute_result"
    }
   ],
   "source": [
    "s[2:7:-1]"
   ]
  },
  {
   "cell_type": "code",
   "execution_count": 69,
   "id": "d5a32c2b-1421-464c-9318-d8e8fc024ba1",
   "metadata": {},
   "outputs": [
    {
     "data": {
      "text/plain": [
       "''"
      ]
     },
     "execution_count": 69,
     "metadata": {},
     "output_type": "execute_result"
    }
   ],
   "source": [
    "s[8:0]"
   ]
  },
  {
   "cell_type": "code",
   "execution_count": 70,
   "id": "5fef84e8-b14e-4613-a8b0-fd10c4594863",
   "metadata": {},
   "outputs": [
    {
     "data": {
      "text/plain": [
       "'slliks w'"
      ]
     },
     "execution_count": 70,
     "metadata": {},
     "output_type": "execute_result"
    }
   ],
   "source": [
    "s[8:0:-1]"
   ]
  },
  {
   "cell_type": "code",
   "execution_count": 71,
   "id": "25c6d2f1-df5e-4028-81ac-04187c47cb99",
   "metadata": {},
   "outputs": [
    {
     "data": {
      "text/plain": [
       "''"
      ]
     },
     "execution_count": 71,
     "metadata": {},
     "output_type": "execute_result"
    }
   ],
   "source": [
    "s[8:0:]"
   ]
  },
  {
   "cell_type": "code",
   "execution_count": 73,
   "id": "d7335da0-a852-4879-a8b3-d90ced9aa925",
   "metadata": {},
   "outputs": [
    {
     "data": {
      "text/plain": [
       "''"
      ]
     },
     "execution_count": 73,
     "metadata": {},
     "output_type": "execute_result"
    }
   ],
   "source": [
    "s[-2:-8:1]"
   ]
  },
  {
   "cell_type": "code",
   "execution_count": 74,
   "id": "e51400c4-35f8-40f8-b1cc-8d18fb3f07d2",
   "metadata": {},
   "outputs": [
    {
     "data": {
      "text/plain": [
       "'lliks '"
      ]
     },
     "execution_count": 74,
     "metadata": {},
     "output_type": "execute_result"
    }
   ],
   "source": [
    "s[-2:-8:-1]\n"
   ]
  },
  {
   "cell_type": "code",
   "execution_count": 10,
   "id": "193af17e-83e5-4303-827d-68d91cfe4b77",
   "metadata": {},
   "outputs": [],
   "source": [
    "d= \"dev shah\""
   ]
  },
  {
   "cell_type": "code",
   "execution_count": 11,
   "id": "94eebba7-5bcf-4e4c-8901-d705dfc6f205",
   "metadata": {},
   "outputs": [
    {
     "data": {
      "text/plain": [
       "str"
      ]
     },
     "execution_count": 11,
     "metadata": {},
     "output_type": "execute_result"
    }
   ],
   "source": [
    "type(d)"
   ]
  },
  {
   "cell_type": "code",
   "execution_count": 12,
   "id": "7ffa8c73-b4c8-478b-b427-65b57947422c",
   "metadata": {},
   "outputs": [
    {
     "data": {
      "text/plain": [
       "''"
      ]
     },
     "execution_count": 12,
     "metadata": {},
     "output_type": "execute_result"
    }
   ],
   "source": [
    "d[:-90:]"
   ]
  },
  {
   "cell_type": "code",
   "execution_count": 13,
   "id": "f8bbf309-53e8-4fd5-99bd-72222ac8788b",
   "metadata": {},
   "outputs": [
    {
     "data": {
      "text/plain": [
       "'hahs ved'"
      ]
     },
     "execution_count": 13,
     "metadata": {},
     "output_type": "execute_result"
    }
   ],
   "source": [
    "d[:-90:-1]"
   ]
  },
  {
   "cell_type": "code",
   "execution_count": 14,
   "id": "c8613c12-842c-4e00-83ab-9e3c0db6cc3d",
   "metadata": {},
   "outputs": [
    {
     "data": {
      "text/plain": [
       "8"
      ]
     },
     "execution_count": 14,
     "metadata": {},
     "output_type": "execute_result"
    }
   ],
   "source": [
    "len(d)"
   ]
  },
  {
   "cell_type": "code",
   "execution_count": 15,
   "id": "fa4d5a63-12fa-4586-95fa-85e71a5629aa",
   "metadata": {},
   "outputs": [
    {
     "data": {
      "text/plain": [
       "0"
      ]
     },
     "execution_count": 15,
     "metadata": {},
     "output_type": "execute_result"
    }
   ],
   "source": [
    "d.find('d')"
   ]
  },
  {
   "cell_type": "code",
   "execution_count": 16,
   "id": "2ec5d0bc-0932-47fa-b16f-8e0121b1a4a0",
   "metadata": {},
   "outputs": [
    {
     "data": {
      "text/plain": [
       "1"
      ]
     },
     "execution_count": 16,
     "metadata": {},
     "output_type": "execute_result"
    }
   ],
   "source": [
    "d.find('e')"
   ]
  },
  {
   "cell_type": "code",
   "execution_count": 18,
   "id": "78049ae3-1254-4dee-bfec-abc63da60caa",
   "metadata": {},
   "outputs": [
    {
     "data": {
      "text/plain": [
       "4"
      ]
     },
     "execution_count": 18,
     "metadata": {},
     "output_type": "execute_result"
    }
   ],
   "source": [
    "d.find(\"shah\")"
   ]
  },
  {
   "cell_type": "code",
   "execution_count": 19,
   "id": "983d6046-5df8-4581-a0a0-d270fd485c1c",
   "metadata": {},
   "outputs": [
    {
     "data": {
      "text/plain": [
       "-1"
      ]
     },
     "execution_count": 19,
     "metadata": {},
     "output_type": "execute_result"
    }
   ],
   "source": [
    "d.find('IS')"
   ]
  },
  {
   "cell_type": "code",
   "execution_count": 20,
   "id": "92ee13b6-6e0c-43c9-b5b3-a68022013531",
   "metadata": {},
   "outputs": [
    {
     "data": {
      "text/plain": [
       "2"
      ]
     },
     "execution_count": 20,
     "metadata": {},
     "output_type": "execute_result"
    }
   ],
   "source": [
    "d.count('h')"
   ]
  },
  {
   "cell_type": "code",
   "execution_count": 21,
   "id": "808460b3-5eaa-4eb8-9495-e3dfcb9c8207",
   "metadata": {},
   "outputs": [
    {
     "data": {
      "text/plain": [
       "0"
      ]
     },
     "execution_count": 21,
     "metadata": {},
     "output_type": "execute_result"
    }
   ],
   "source": [
    "d.count('w')"
   ]
  },
  {
   "cell_type": "code",
   "execution_count": 22,
   "id": "f3566117-dc14-4df2-9ddd-26256e4b6d07",
   "metadata": {},
   "outputs": [
    {
     "data": {
      "text/plain": [
       "'dev shah'"
      ]
     },
     "execution_count": 22,
     "metadata": {},
     "output_type": "execute_result"
    }
   ],
   "source": [
    "d"
   ]
  },
  {
   "cell_type": "code",
   "execution_count": 24,
   "id": "37f70180-9cbf-4909-a047-0190addc05bf",
   "metadata": {},
   "outputs": [
    {
     "data": {
      "text/plain": [
       "'DEV SHAH'"
      ]
     },
     "execution_count": 24,
     "metadata": {},
     "output_type": "execute_result"
    }
   ],
   "source": [
    "d.upper()"
   ]
  },
  {
   "cell_type": "code",
   "execution_count": 25,
   "id": "7001b692-3ce0-41cf-8951-fbc0d3291cf3",
   "metadata": {},
   "outputs": [],
   "source": [
    "d2=\"DEV SHAH\""
   ]
  },
  {
   "cell_type": "code",
   "execution_count": 27,
   "id": "ddf28166-80db-437b-8e53-8161202f3b5f",
   "metadata": {},
   "outputs": [
    {
     "data": {
      "text/plain": [
       "'Dev Shah'"
      ]
     },
     "execution_count": 27,
     "metadata": {},
     "output_type": "execute_result"
    }
   ],
   "source": [
    "d2.title()"
   ]
  },
  {
   "cell_type": "code",
   "execution_count": 28,
   "id": "0982fb50-2039-4474-9afb-b76da4d70125",
   "metadata": {},
   "outputs": [
    {
     "data": {
      "text/plain": [
       "'Dev shah'"
      ]
     },
     "execution_count": 28,
     "metadata": {},
     "output_type": "execute_result"
    }
   ],
   "source": [
    "d2.capitalize()"
   ]
  },
  {
   "cell_type": "code",
   "execution_count": 31,
   "id": "3aef550d-5ad3-42ff-97fd-1cfaeaf98c70",
   "metadata": {},
   "outputs": [
    {
     "ename": "TypeError",
     "evalue": "can only concatenate str (not \"int\") to str",
     "output_type": "error",
     "traceback": [
      "\u001b[0;31m---------------------------------------------------------------------------\u001b[0m",
      "\u001b[0;31mTypeError\u001b[0m                                 Traceback (most recent call last)",
      "Cell \u001b[0;32mIn[31], line 1\u001b[0m\n\u001b[0;32m----> 1\u001b[0m \u001b[43md2\u001b[49m\u001b[38;5;241;43m+\u001b[39;49m\u001b[38;5;241;43m1\u001b[39;49m\n",
      "\u001b[0;31mTypeError\u001b[0m: can only concatenate str (not \"int\") to str"
     ]
    }
   ],
   "source": [
    "d2+1"
   ]
  },
  {
   "cell_type": "code",
   "execution_count": 32,
   "id": "12bab59c-2544-4077-967b-2a1da8d3ba08",
   "metadata": {},
   "outputs": [
    {
     "data": {
      "text/plain": [
       "'dev shah23'"
      ]
     },
     "execution_count": 32,
     "metadata": {},
     "output_type": "execute_result"
    }
   ],
   "source": [
    "d+'23'"
   ]
  },
  {
   "cell_type": "code",
   "execution_count": 34,
   "id": "c7e57b04-64a3-42ca-946a-6a265ff17d92",
   "metadata": {},
   "outputs": [
    {
     "data": {
      "text/plain": [
       "'dev shah34'"
      ]
     },
     "execution_count": 34,
     "metadata": {},
     "output_type": "execute_result"
    }
   ],
   "source": [
    "d+ str( 34  )"
   ]
  },
  {
   "cell_type": "code",
   "execution_count": 36,
   "id": "c94c0ab7-ba91-4d9e-9cf9-661f04765c92",
   "metadata": {},
   "outputs": [
    {
     "data": {
      "text/plain": [
       "'DEV SHAHDEV SHAHDEV SHAH'"
      ]
     },
     "execution_count": 36,
     "metadata": {},
     "output_type": "execute_result"
    }
   ],
   "source": [
    "d2 * 3"
   ]
  },
  {
   "cell_type": "code",
   "execution_count": 37,
   "id": "653a017a-57d6-489e-8e83-0cf9580ad01c",
   "metadata": {},
   "outputs": [
    {
     "ename": "TypeError",
     "evalue": "unsupported operand type(s) for /: 'str' and 'int'",
     "output_type": "error",
     "traceback": [
      "\u001b[0;31m---------------------------------------------------------------------------\u001b[0m",
      "\u001b[0;31mTypeError\u001b[0m                                 Traceback (most recent call last)",
      "Cell \u001b[0;32mIn[37], line 1\u001b[0m\n\u001b[0;32m----> 1\u001b[0m \u001b[43md\u001b[49m\u001b[38;5;241;43m/\u001b[39;49m\u001b[38;5;241;43m3\u001b[39;49m\n",
      "\u001b[0;31mTypeError\u001b[0m: unsupported operand type(s) for /: 'str' and 'int'"
     ]
    }
   ],
   "source": [
    "d/3"
   ]
  },
  {
   "cell_type": "code",
   "execution_count": 38,
   "id": "65de7a79-9e31-4954-87ee-2b764a3d6b5f",
   "metadata": {},
   "outputs": [
    {
     "ename": "TypeError",
     "evalue": "unsupported operand type(s) for /: 'str' and 'int'",
     "output_type": "error",
     "traceback": [
      "\u001b[0;31m---------------------------------------------------------------------------\u001b[0m",
      "\u001b[0;31mTypeError\u001b[0m                                 Traceback (most recent call last)",
      "Cell \u001b[0;32mIn[38], line 1\u001b[0m\n\u001b[0;32m----> 1\u001b[0m \u001b[38;5;124;43m\"\u001b[39;49m\u001b[38;5;124;43mdev shah\u001b[39;49m\u001b[38;5;124;43m\"\u001b[39;49m\u001b[43m \u001b[49m\u001b[38;5;241;43m/\u001b[39;49m\u001b[43m \u001b[49m\u001b[38;5;241;43m4\u001b[39;49m\n",
      "\u001b[0;31mTypeError\u001b[0m: unsupported operand type(s) for /: 'str' and 'int'"
     ]
    }
   ],
   "source": [
    "\"dev shah\" / 4"
   ]
  },
  {
   "cell_type": "code",
   "execution_count": 44,
   "id": "c622bb11-d5ec-4d08-9f25-ab7a490bdb08",
   "metadata": {},
   "outputs": [
    {
     "data": {
      "text/plain": [
       "\"don't do copy and paste in my class \""
      ]
     },
     "execution_count": 44,
     "metadata": {},
     "output_type": "execute_result"
    }
   ],
   "source": [
    "\"don't do copy and paste in my class \""
   ]
  },
  {
   "cell_type": "code",
   "execution_count": 45,
   "id": "ceeb6be0-a8bf-47ca-a65a-9f2d6c80a519",
   "metadata": {},
   "outputs": [],
   "source": [
    "q= \"\"\"this is my first class in my programminng \n",
    "i have learnt variable , data type , string , int , boolean , complex number \n",
    "i have seen some example of string slicing and indexing \n",
    "i have gone through some of the string inbuilt function \n",
    "apart form that i am trying to practice in my system \"\"\"\n"
   ]
  },
  {
   "cell_type": "code",
   "execution_count": 46,
   "id": "b454bb73-c784-46ec-ad42-e6cd062b9aa8",
   "metadata": {},
   "outputs": [
    {
     "data": {
      "text/plain": [
       "'this is my first class in my programminng \\ni have learnt variable , data type , string , int , boolean , complex number \\ni have seen some example of string slicing and indexing \\ni have gone through some of the string inbuilt function \\napart form that i am trying to practice in my system '"
      ]
     },
     "execution_count": 46,
     "metadata": {},
     "output_type": "execute_result"
    }
   ],
   "source": [
    "q"
   ]
  },
  {
   "cell_type": "code",
   "execution_count": 47,
   "id": "33aac671-894c-43f0-bfa8-feb8c0576eb1",
   "metadata": {},
   "outputs": [
    {
     "data": {
      "text/plain": [
       "'this is my first class in my programminng \\ni have learnt variable , data type , string , int , boolean , complex number \\ni have seen some example of string slicing and indexing \\ni have gone through some of the string inbuilt function \\napart form that i am trying to practice in my system '"
      ]
     },
     "execution_count": 47,
     "metadata": {},
     "output_type": "execute_result"
    }
   ],
   "source": [
    "\"\"\"this is my first class in my programminng \n",
    "i have learnt variable , data type , string , int , boolean , complex number \n",
    "i have seen some example of string slicing and indexing \n",
    "i have gone through some of the string inbuilt function \n",
    "apart form that i am trying to practice in my system \"\"\""
   ]
  },
  {
   "cell_type": "code",
   "execution_count": 50,
   "id": "ab01ea93-44e4-4eb3-9e99-36d18c61098a",
   "metadata": {},
   "outputs": [],
   "source": [
    "Name = 'dev shah'"
   ]
  },
  {
   "cell_type": "code",
   "execution_count": 51,
   "id": "385342b1-d64f-432b-8f86-e8505edd6a5f",
   "metadata": {},
   "outputs": [
    {
     "ename": "TypeError",
     "evalue": "'str' object does not support item assignment",
     "output_type": "error",
     "traceback": [
      "\u001b[0;31m---------------------------------------------------------------------------\u001b[0m",
      "\u001b[0;31mTypeError\u001b[0m                                 Traceback (most recent call last)",
      "Cell \u001b[0;32mIn[51], line 1\u001b[0m\n\u001b[0;32m----> 1\u001b[0m \u001b[43mName\u001b[49m\u001b[43m[\u001b[49m\u001b[38;5;241;43m0\u001b[39;49m\u001b[43m]\u001b[49m\u001b[38;5;241m=\u001b[39m\u001b[38;5;124m'\u001b[39m\u001b[38;5;124mp\u001b[39m\u001b[38;5;124m'\u001b[39m\n",
      "\u001b[0;31mTypeError\u001b[0m: 'str' object does not support item assignment"
     ]
    }
   ],
   "source": [
    "Name[0]='p'"
   ]
  },
  {
   "cell_type": "code",
   "execution_count": 52,
   "id": "3322e202-25a4-4916-9733-79de4d111747",
   "metadata": {},
   "outputs": [],
   "source": [
    "num1 = 23"
   ]
  },
  {
   "cell_type": "code",
   "execution_count": 53,
   "id": "72e6d4cd-c979-4ca7-af3b-8824f715ecfe",
   "metadata": {},
   "outputs": [],
   "source": [
    "num2 = 44"
   ]
  },
  {
   "cell_type": "code",
   "execution_count": 54,
   "id": "1656809d-b291-415c-873b-187985d165a2",
   "metadata": {},
   "outputs": [],
   "source": [
    "num2 = 2 + 3j "
   ]
  },
  {
   "cell_type": "code",
   "execution_count": 55,
   "id": "21f1492f-743c-408a-a95b-2b4e6a9da75e",
   "metadata": {},
   "outputs": [],
   "source": [
    "num1 = num2.imag"
   ]
  },
  {
   "cell_type": "code",
   "execution_count": 56,
   "id": "7d353461-4476-4d36-9bde-c2bbb13cd0af",
   "metadata": {},
   "outputs": [
    {
     "data": {
      "text/plain": [
       "(-1+3j)"
      ]
     },
     "execution_count": 56,
     "metadata": {},
     "output_type": "execute_result"
    }
   ],
   "source": [
    "num2-num1"
   ]
  },
  {
   "cell_type": "code",
   "execution_count": 57,
   "id": "38cbf0f4-c0fa-4802-91ed-89597eadba65",
   "metadata": {},
   "outputs": [
    {
     "data": {
      "text/plain": [
       "True"
      ]
     },
     "execution_count": 57,
     "metadata": {},
     "output_type": "execute_result"
    }
   ],
   "source": [
    "'pwskills'.upper().lower().isalnum()"
   ]
  },
  {
   "cell_type": "code",
   "execution_count": 1,
   "id": "e19ce6bd-0d7a-4529-8da3-828146d4c8d3",
   "metadata": {},
   "outputs": [
    {
     "data": {
      "text/plain": [
       "True"
      ]
     },
     "execution_count": 1,
     "metadata": {},
     "output_type": "execute_result"
    }
   ],
   "source": [
    "'pwskills'.isalnum()"
   ]
  },
  {
   "cell_type": "code",
   "execution_count": null,
   "id": "a2f92734-9c9a-4cb6-a2e2-1476cfd24665",
   "metadata": {},
   "outputs": [],
   "source": []
  }
 ],
 "metadata": {
  "kernelspec": {
   "display_name": "Python 3 (ipykernel)",
   "language": "python",
   "name": "python3"
  },
  "language_info": {
   "codemirror_mode": {
    "name": "ipython",
    "version": 3
   },
   "file_extension": ".py",
   "mimetype": "text/x-python",
   "name": "python",
   "nbconvert_exporter": "python",
   "pygments_lexer": "ipython3",
   "version": "3.10.8"
  }
 },
 "nbformat": 4,
 "nbformat_minor": 5
}
